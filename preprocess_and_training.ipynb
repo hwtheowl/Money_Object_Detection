{
 "cells": [
  {
   "cell_type": "markdown",
   "metadata": {},
   "source": [
    "# **저시력자를 위한 원화 화폐 분류**"
   ]
  },
  {
   "cell_type": "markdown",
   "metadata": {},
   "source": [
    "## 라이브러리 불러오기"
   ]
  },
  {
   "cell_type": "code",
   "execution_count": 1,
   "metadata": {},
   "outputs": [],
   "source": [
    "import glob, shutil, os, splitfolders\n",
    "import json\n",
    "import yaml"
   ]
  },
  {
   "cell_type": "markdown",
   "metadata": {},
   "source": [
    "## 전처리"
   ]
  },
  {
   "cell_type": "markdown",
   "metadata": {},
   "source": [
    "### 데이터 이동"
   ]
  },
  {
   "cell_type": "code",
   "execution_count": 2,
   "metadata": {},
   "outputs": [],
   "source": [
    "money_list = [\"10\", \"50\", \"100\", \"500\", \"1000\", \"5000\", \"10000\", \"50000\"]\n",
    "data_path = \"./money_dataset/\""
   ]
  },
  {
   "cell_type": "code",
   "execution_count": 5,
   "metadata": {},
   "outputs": [],
   "source": [
    "# image to dst\n",
    "for money in money_list:\n",
    "    src_dir = os.path.join(\"./money_dataset/\", money)\n",
    "    dst_dir = os.path.join(\"./money_dataset/images\", money)\n",
    "    os.makedirs(dst_dir, exist_ok=True)\n",
    "    images_file_list = [filename for filename in os.listdir(src_dir) if filename.endswith(\".jpg\")]\n",
    "    for filename in images_file_list:\n",
    "        src_path = os.path.join(src_dir, filename)\n",
    "        dst_path = os.path.join(dst_dir, filename)\n",
    "        shutil.move(src_path, dst_path)"
   ]
  },
  {
   "cell_type": "code",
   "execution_count": 7,
   "metadata": {},
   "outputs": [],
   "source": [
    "# label to dst\n",
    "for money in money_list:\n",
    "    src_dir = os.path.join(\"./money_dataset/\", money)\n",
    "    dst_dir = os.path.join(\"./money_dataset/labels\", money)\n",
    "    os.makedirs(dst_dir, exist_ok=True)\n",
    "    label_file_list = [filename for filename in os.listdir(src_dir) if filename.endswith(\".json\")]\n",
    "    for filename in label_file_list:\n",
    "        src_path = os.path.join(src_dir, filename)\n",
    "        dst_path = os.path.join(dst_dir, filename)\n",
    "        shutil.move(src_path, dst_path)"
   ]
  },
  {
   "cell_type": "code",
   "execution_count": 74,
   "metadata": {},
   "outputs": [],
   "source": [
    "# images train val split\n",
    "images_path = \"./money_dataset/images\"\n",
    "splitfolders.ratio(images_path, output=\"./money_dataset/images\", seed=123, ratio=(.7, .3), group_prefix=None)"
   ]
  },
  {
   "cell_type": "code",
   "execution_count": 41,
   "metadata": {},
   "outputs": [
    {
     "name": "stdout",
     "output_type": "stream",
     "text": [
      "10원 train 갯수: 305\n",
      "50원 train 갯수: 308\n",
      "100원 train 갯수: 308\n",
      "500원 train 갯수: 308\n",
      "1000원 train 갯수: 600\n",
      "5000원 train 갯수: 606\n",
      "10000원 train 갯수: 606\n",
      "50000원 train 갯수: 609\n",
      "10원 val 갯수: 131\n",
      "50원 val 갯수: 132\n",
      "100원 val 갯수: 132\n",
      "500원 val 갯수: 132\n",
      "1000원 val 갯수: 258\n",
      "5000원 val 갯수: 261\n",
      "10000원 val 갯수: 261\n",
      "50000원 val 갯수: 261\n",
      "총 train 갯수: 3650\n",
      "총 val 갯수: 1568\n",
      "총 data 갯수: 5218\n"
     ]
    }
   ],
   "source": [
    "# 균등 배분 비율 확인\n",
    "for i in money_list:\n",
    "    print(f'{i}원 train 갯수:',len(os.listdir('./money_dataset/images/train/' + i)))\n",
    "for i in money_list:\n",
    "    print(f'{i}원 val 갯수:',len(os.listdir('./money_dataset/images/val/' + i)))\n",
    "train_sum = 0\n",
    "val_sum = 0\n",
    "total_sum = 0\n",
    "for i in money_list:\n",
    "    train_sum += len(os.listdir('./money_dataset/images/train/' + i))\n",
    "for i in money_list:\n",
    "    val_sum +=len(os.listdir('./money_dataset/images/val/' + i))\n",
    "print('총 train 갯수:',train_sum)\n",
    "print('총 val 갯수:',val_sum)\n",
    "print('총 data 갯수:', train_sum + val_sum)"
   ]
  },
  {
   "cell_type": "code",
   "execution_count": 16,
   "metadata": {},
   "outputs": [],
   "source": [
    "## 단위 구분 없이 train, val 각 폴더에 모든 권종 모아놓기\n",
    "train_dst = \"./money_dataset/yolov5_dataset/images/trainset\"\n",
    "val_dst = \"./money_dataset/yolov5_dataset/images/validset\"\n",
    "\n",
    "os.makedirs(train_dst, exist_ok=True)\n",
    "os.makedirs(val_dst, exist_ok=True)\n",
    "\n",
    "# 단위 구분 없이 train 각 폴더의 이미지를 trainset 폴더로 복사하기\n",
    "for money in money_list:\n",
    "    train_src = os.path.join(\"./money_dataset/images/train/\", money)\n",
    "    for filename in os.listdir(train_src):\n",
    "        src_path = os.path.join(train_src, filename)\n",
    "        dst_path = os.path.join(train_dst, filename)\n",
    "        shutil.copy2(src_path, dst_path)\n",
    "\n",
    "# 단위 구분 없이 val 각 폴더의 이미지를 validset 폴더로 복사하기\n",
    "for money in money_list:\n",
    "    val_src = os.path.join(\"./money_dataset/images/val/\", money)\n",
    "    for filename in os.listdir(val_src):\n",
    "        src_path = os.path.join(val_src, filename)\n",
    "        dst_path = os.path.join(val_dst, filename)\n",
    "        shutil.copy2(src_path, dst_path)"
   ]
  },
  {
   "cell_type": "code",
   "execution_count": 76,
   "metadata": {},
   "outputs": [],
   "source": [
    "# 라벨 데이터도 단위 구분 없이 train, val 각 폴더로\n",
    "train_labels_dst = \"./money_dataset/labels/trainset\"\n",
    "val_labels_dst = \"./money_dataset/labels/validset\"\n",
    "\n",
    "os.makedirs(train_labels_dst, exist_ok=True)\n",
    "os.makedirs(val_labels_dst, exist_ok=True)\n",
    "\n",
    "# 이미지 파일명을 바탕으로 라벨 파일을 trainset 폴더로 복사하기\n",
    "for file_name in os.listdir(train_dst):\n",
    "    label_file_name = file_name.replace(\".jpg\", \".json\")\n",
    "    \n",
    "    for money in money_list:\n",
    "        src_path = os.path.join(f\"./money_dataset/labels/{money}/\", label_file_name)\n",
    "        if os.path.exists(src_path):\n",
    "            dst_path = os.path.join(train_labels_dst, label_file_name)\n",
    "            shutil.copy2(src_path, dst_path)\n",
    "            break\n",
    "\n",
    "# 이미지 파일명을 바탕으로 라벨 파일을 validset 폴더로 복사하기\n",
    "for file_name in os.listdir(val_dst):\n",
    "    label_file_name = file_name.replace(\".jpg\", \".json\")\n",
    "\n",
    "    for money in money_list:\n",
    "        src_path = os.path.join(f\"./money_dataset/labels/{money}/\", label_file_name)\n",
    "        if os.path.exists(src_path):\n",
    "            dst_path = os.path.join(val_labels_dst, label_file_name)\n",
    "            shutil.copy2(src_path, dst_path)\n",
    "            break"
   ]
  },
  {
   "cell_type": "code",
   "execution_count": 50,
   "metadata": {},
   "outputs": [],
   "source": [
    "train_images_list = os.listdir(train_dst)\n",
    "train_labels_list = os.listdir(train_labels_dst)\n",
    "val_images_list = os.listdir(val_dst)\n",
    "val_labels_list = os.listdir(val_labels_dst)"
   ]
  },
  {
   "cell_type": "code",
   "execution_count": 51,
   "metadata": {},
   "outputs": [
    {
     "name": "stdout",
     "output_type": "stream",
     "text": [
      "3650\n",
      "3650\n",
      "1568\n",
      "1568\n"
     ]
    }
   ],
   "source": [
    "print(len(train_images_list))\n",
    "print(len(train_labels_list))\n",
    "print(len(val_images_list))\n",
    "print(len(val_labels_list))"
   ]
  },
  {
   "cell_type": "markdown",
   "metadata": {},
   "source": [
    "------------------------------------------"
   ]
  },
  {
   "cell_type": "markdown",
   "metadata": {},
   "source": [
    "### json 파일 정보 추출"
   ]
  },
  {
   "cell_type": "code",
   "execution_count": 5,
   "metadata": {},
   "outputs": [],
   "source": [
    "# 라벨 정보 변경 사전\n",
    "class_dict = {'Ten' : 0,\n",
    "              'Fifty' : 1,\n",
    "              'Hundred' : 2,\n",
    "              'Five_Hundred' : 3,\n",
    "              'Thousand' : 4,\n",
    "              'Five_Thousand' : 5 ,\n",
    "              'Ten_Thousand' : 6,\n",
    "              'Fifty_Thousand' : 7}"
   ]
  },
  {
   "cell_type": "code",
   "execution_count": 17,
   "metadata": {},
   "outputs": [],
   "source": [
    "def process_json(json_path, txt_path):\n",
    "    with open(json_path, \"r\") as f:\n",
    "        data = json.load(f)\n",
    "    \n",
    "    annotations = data[\"shapes\"]\n",
    "\n",
    "    # 이미지 원본대비 1/5\n",
    "    image_width = data[\"imageWidth\"] / 5\n",
    "    image_height = data[\"imageHeight\"] / 5\n",
    "\n",
    "    yolo_labels = []\n",
    "    for anno in annotations:\n",
    "        label = anno[\"label\"].replace(\"_front\", \"\").replace(\"_back\", \"\") # 앞뒤 구분 제거\n",
    "        label_index = class_dict[label] # 클래스 인덱스 사용\n",
    "        bbox = anno[\"points\"]\n",
    "\n",
    "        x1, y1 = bbox[0]\n",
    "        x2, y2 = bbox[1]\n",
    "\n",
    "        #  이미지 원본대비 1/5\n",
    "        x1, y1, x2, y2 = x1 / 5, y1 / 5, x2 / 5, y2 / 5\n",
    "\n",
    "        x_center = (x1 + x2) / 2 / image_width\n",
    "        y_center = (y1 + y2) / 2 / image_height\n",
    "        width_norm = abs(x2 - x1) / image_width\n",
    "        height_norm = abs(y2 - y1) / image_height\n",
    "\n",
    "        yolo_label = f\"{label_index} {x_center} {y_center} {width_norm} {height_norm}\\n\"\n",
    "        yolo_labels.append(yolo_label) \n",
    "\n",
    "    with open(txt_path, \"w\") as f:\n",
    "        f.writelines(yolo_labels)"
   ]
  },
  {
   "cell_type": "code",
   "execution_count": 18,
   "metadata": {},
   "outputs": [],
   "source": [
    "# 경로 지정\n",
    "train_json_dir = \"./money_dataset/labels/trainset/\"\n",
    "train_txt_dir = \"./money_dataset/yolov5_dataset/labels/trainset\"\n",
    "os.makedirs(train_txt_dir, exist_ok=True)\n",
    "\n",
    "val_json_dir = \"./money_dataset/labels/validset/\"\n",
    "val_txt_dir = \"./money_dataset/yolov5_dataset/labels/validset\"\n",
    "os.makedirs(val_txt_dir, exist_ok=True)"
   ]
  },
  {
   "cell_type": "code",
   "execution_count": 19,
   "metadata": {},
   "outputs": [],
   "source": [
    "# 데이터 추출\n",
    "for json_file in os.listdir(train_json_dir):\n",
    "    json_path = os.path.join(train_json_dir, json_file)\n",
    "    txt_path = os.path.join(train_txt_dir, json_file.replace(\".json\", \".txt\"))\n",
    "\n",
    "    if json_file.endswith(\".json\"):\n",
    "        process_json(json_path, txt_path)\n",
    "\n",
    "for json_file in os.listdir(val_json_dir):\n",
    "    json_path = os.path.join(val_json_dir, json_file)\n",
    "    txt_path = os.path.join(val_txt_dir, json_file.replace(\".json\", \".txt\"))\n",
    "\n",
    "    if json_file.endswith(\".json\"):\n",
    "        process_json(json_path, txt_path)"
   ]
  },
  {
   "cell_type": "markdown",
   "metadata": {},
   "source": [
    "### Dataset yaml파일 생성"
   ]
  },
  {
   "cell_type": "code",
   "execution_count": 9,
   "metadata": {},
   "outputs": [],
   "source": [
    "money_dict = {0: '10', 1: '50', 2: '100', 3: '500', 4: '1000', 5: '5000', 6: '10000', 7: '50000'}\n",
    "\n",
    "# 지정\n",
    "money_yaml = {\n",
    "  'path': '/home/hwl/Workspace/Money_Object_Detection/money_dataset/',\n",
    "  'train': 'yolov5_dataset/images/trainset',\n",
    "  'val': 'yolov5_dataset/images/validset',\n",
    "  'names': money_dict\n",
    "}\n",
    "\n",
    "# 저장\n",
    "with open('./money_dataset/money.yaml', 'w') as f:\n",
    "    yaml.dump(money_yaml, f)"
   ]
  },
  {
   "cell_type": "markdown",
   "metadata": {},
   "source": [
    "## 모델링"
   ]
  },
  {
   "cell_type": "code",
   "execution_count": 21,
   "metadata": {},
   "outputs": [],
   "source": [
    "# 경로 지정\n",
    "train_py = \"/home/hwl/Workspace/yolov5/train.py\"\n",
    "data = \"/home/hwl/Workspace/Money_Object_Detection/money_dataset/money.yaml\"\n",
    "cfg = \"/home/hwl/Workspace/yolov5/models/money_detection_yolov5s.yaml\"\n",
    "weights = \"/home/hwl/Workspace/yolov5/weights/yolov5s.pt\""
   ]
  },
  {
   "cell_type": "code",
   "execution_count": null,
   "metadata": {},
   "outputs": [],
   "source": [
    "# 훈련\n",
    "!python {train_py} --img 640 --batch 16 --epochs 10 --data {data} --cfg {cfg} --weights {weights}"
   ]
  }
 ],
 "metadata": {
  "kernelspec": {
   "display_name": "Money_Object_Detection",
   "language": "python",
   "name": "python3"
  },
  "language_info": {
   "codemirror_mode": {
    "name": "ipython",
    "version": 3
   },
   "file_extension": ".py",
   "mimetype": "text/x-python",
   "name": "python",
   "nbconvert_exporter": "python",
   "pygments_lexer": "ipython3",
   "version": "3.8.17"
  },
  "orig_nbformat": 4
 },
 "nbformat": 4,
 "nbformat_minor": 2
}
